{
 "cells": [
  {
   "cell_type": "code",
   "execution_count": null,
   "metadata": {},
   "outputs": [],
   "source": [
    "# Helper funcs\n",
    "from IPython.display import IFrame\n",
    "def show_notebook(path):\n",
    "    return IFrame(path, 800, 400)"
   ]
  },
  {
   "cell_type": "code",
   "execution_count": 15,
   "metadata": {},
   "outputs": [
    {
     "name": "stdout",
     "output_type": "stream",
     "text": [
      "==> ./notebook_to_run.py <==\n",
      "import numpy as np\n",
      "import pandas as pd\n",
      "from matplotlib import pyplot as plt\n",
      "import altair as alt\n",
      "\n",
      "# %% [markdown]\n",
      "# ## Generate some data\n",
      "# First we'll generate some data that we'll use to visualize below.\n",
      "\n",
      "# %%\n",
      "head: cannot open '20' for reading: No such file or directory\n"
     ]
    }
   ],
   "source": [
    "# Here's the original python file\n",
    "!head ./notebook_to_run.py 20"
   ]
  },
  {
   "cell_type": "markdown",
   "metadata": {},
   "source": [
    "## with nbconvert + jupytext"
   ]
  },
  {
   "cell_type": "code",
   "execution_count": null,
   "metadata": {},
   "outputs": [],
   "source": [
    "# Convert the python file to ipynb\n",
    "# jupytext should automatically figure out the input format\n",
    "# but to be sure you can also add `--from py:percent`\n",
    "!jupytext ./notebook_to_run.py --to notebook"
   ]
  },
  {
   "cell_type": "code",
   "execution_count": null,
   "metadata": {},
   "outputs": [],
   "source": [
    "# Now convert to HTML with nbconvert\n",
    "# First w/ Notebook-y HTML output\n",
    "!jupyter-nbconvert --to html --execute  --output html_outputs/notebook_to_run_full.html notebook_to_run.ipynb"
   ]
  },
  {
   "cell_type": "code",
   "execution_count": null,
   "metadata": {},
   "outputs": [],
   "source": [
    "show_notebook(\"html_outputs/notebook_to_run_full.html\")"
   ]
  },
  {
   "cell_type": "code",
   "execution_count": null,
   "metadata": {},
   "outputs": [],
   "source": [
    "# Basic HTML output you can style on your own\n",
    "!jupyter-nbconvert --to html --template basic --execute --output html_outputs/notebook_to_run_basic.html notebook_to_run.ipynb "
   ]
  },
  {
   "cell_type": "code",
   "execution_count": null,
   "metadata": {},
   "outputs": [],
   "source": [
    "show_notebook(\"./html_outputs/notebook_to_run_basic.html\")"
   ]
  },
  {
   "cell_type": "markdown",
   "metadata": {},
   "source": [
    "## with jupyter book"
   ]
  },
  {
   "cell_type": "code",
   "execution_count": null,
   "metadata": {},
   "outputs": [],
   "source": [
    "# Basically combines the two above in a one-liner\n",
    "!jupyter-book page -o html_outputs/notebook_to_run_jupyterbook --execute notebook_to_run.py"
   ]
  },
  {
   "cell_type": "code",
   "execution_count": null,
   "metadata": {},
   "outputs": [],
   "source": [
    "show_notebook(\"./html_outputs/notebook_to_run_jupyterbook/notebook_to_run.html\")"
   ]
  },
  {
   "cell_type": "code",
   "execution_count": null,
   "metadata": {},
   "outputs": [],
   "source": []
  }
 ],
 "metadata": {
  "kernelspec": {
   "display_name": "Python 3",
   "language": "python",
   "name": "python3"
  },
  "language_info": {
   "codemirror_mode": {
    "name": "ipython",
    "version": 3
   },
   "file_extension": ".py",
   "mimetype": "text/x-python",
   "name": "python",
   "nbconvert_exporter": "python",
   "pygments_lexer": "ipython3",
   "version": "3.8.2"
  },
  "widgets": {
   "application/vnd.jupyter.widget-state+json": {
    "state": {},
    "version_major": 2,
    "version_minor": 0
   }
  }
 },
 "nbformat": 4,
 "nbformat_minor": 4
}
